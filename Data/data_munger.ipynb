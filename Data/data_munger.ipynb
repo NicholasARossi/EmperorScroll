{
 "cells": [
  {
   "cell_type": "code",
   "execution_count": 130,
   "metadata": {},
   "outputs": [],
   "source": [
    "import pandas as pd\n",
    "import numpy as np"
   ]
  },
  {
   "cell_type": "code",
   "execution_count": 131,
   "metadata": {},
   "outputs": [],
   "source": [
    "data=pd.read_csv('emperors.csv')"
   ]
  },
  {
   "cell_type": "code",
   "execution_count": 132,
   "metadata": {},
   "outputs": [],
   "source": [
    "CityDict ={\n",
    "  \"Rome\": (41.9028, 12.4964),\n",
    "  \"Antitum\": (41.4496, 12.6197),\n",
    "  \"Lugdunum\": (45.7640, 4.8357),\n",
    "    \"Terracina\":(41.2964, 13.2333),\n",
    "   \"Terentinum\": (40.4644, 17.2470),\n",
    "    \"Falacrine\": (42.4211, 13.0805),\n",
    "    \"Narni\": (42.5176, 12.5156),\n",
    "    \"Italica\": (42.5176, 12.5156),\n",
    "    \"Lanuvium\": (41.6754, 12.6980),\n",
    "    \"Alba\":(44.7009, 8.0357),\n",
    "    \"Milan\":(44.7009, 8.0357),\n",
    "    \"Leptis Magna\": (32.6343, 14.2948),\n",
    "    \"Iol Caesarea\": (36.5675, 2.2040),\n",
    "    \"Emesa\":(34.7324, 36.7137),\n",
    "    \"Arca Caesarea\": (34.5305, 36.0382),\n",
    "    \"Shahba\":(32.8569, 36.6256),\n",
    "    \"Budalia\":(45.0112, 19.4568),\n",
    "    \"Sirmium\":(44.9795, 19.6210),\n",
    "    \"Interamna Nahars\":(42.5636, 12.6427),\n",
    "    \"Narbo\":(43.1843, 3.0031),\n",
    "    \"Salona\":(43.5423, 16.4920),\n",
    "    \"Dardania\":(40.1467, 26.4086),\n",
    "    \"Romuliana\":(43.9095, 22.1753),\n",
    "    \"Naissus\":(43.3209, 21.8958),\n",
    "    \"Felix Romuliana\":(43.9095, 22.1753),\n",
    "    \"Arelate\":(43.6766, 4.6278),\n",
    "    \"Constantinople\":(41.0082, 28.9784),\n",
    "    \"Singidunum\":(44.7866, 20.4489),\n",
    "    \"Cibalae\":(45.2879, 18.8057),\n",
    "    \"Cauca\":(41.2158, -4.5221),\n",
    "    \"NaN\":(0,0)\n",
    "}"
   ]
  },
  {
   "cell_type": "code",
   "execution_count": 133,
   "metadata": {},
   "outputs": [
    {
     "name": "stderr",
     "output_type": "stream",
     "text": [
      "/Users/nicholasrossi/anaconda/lib/python3.5/site-packages/pandas/core/indexing.py:194: SettingWithCopyWarning: \n",
      "A value is trying to be set on a copy of a slice from a DataFrame\n",
      "\n",
      "See the caveats in the documentation: http://pandas.pydata.org/pandas-docs/stable/indexing.html#indexing-view-versus-copy\n",
      "  self._setitem_with_indexer(indexer, value)\n"
     ]
    }
   ],
   "source": [
    "lat=[]\n",
    "long=[]\n",
    "years=[]\n",
    "for x in range(len(data)):\n",
    "    if type(data['birth.cty'].iloc[x])==str:\n",
    "        la,lo=CityDict[data['birth.cty'].iloc[x]]\n",
    "    else:\n",
    "        la,lo=(\"nan\",\"nan\")\n",
    "    lat.append(la)\n",
    "    long.append(lo)\n",
    "    if x==0:\n",
    "        years=[40]\n",
    "    else:\n",
    "        years.append(int(data['reignend'].iloc[x].split('-')[0])-int(data['reignstart'].iloc[x].split('-')[0]))\n",
    "lat=np.asarray(lat)\n",
    "lat[lat=='nan']=0\n",
    "long=np.asarray(long)\n",
    "long[long=='nan']=0\n",
    "\n",
    "data['latitude']=lat\n",
    "data['logitude']=long\n",
    "data['legacy']=years\n",
    "data['causenums']=pd.factorize(data.cause)[0] + 1\n",
    "data['risenums']=pd.factorize(data.rise)[0] \n",
    "#hacky fix to get rows right:\n",
    "data=data.sort_values(by='risenums')\n",
    "\n",
    "data.risenums.iloc[0:10]=-1\n",
    "data.risenums.iloc[10:20]=-2\n",
    "data.risenums.iloc[20:30]=-3\n",
    "# data['risenums'][data['risenums']==0][0:10]=-2\n",
    "# data['risenums'][data['risenums']==0][0:10]=-3\n",
    "\n",
    "data=data.sort_values(by='causenums')\n",
    "data.to_csv('munged_data.csv')"
   ]
  },
  {
   "cell_type": "code",
   "execution_count": 8,
   "metadata": {},
   "outputs": [],
   "source": [
    "data['causenums']=pd.factorize(data.cause)[0] + 1"
   ]
  },
  {
   "cell_type": "code",
   "execution_count": 45,
   "metadata": {},
   "outputs": [
    {
     "ename": "TypeError",
     "evalue": "ufunc 'isnan' not supported for the input types, and the inputs could not be safely coerced to any supported types according to the casting rule ''safe''",
     "output_type": "error",
     "traceback": [
      "\u001b[0;31m---------------------------------------------------------------------------\u001b[0m",
      "\u001b[0;31mTypeError\u001b[0m                                 Traceback (most recent call last)",
      "\u001b[0;32m<ipython-input-45-4d787a421e86>\u001b[0m in \u001b[0;36m<module>\u001b[0;34m()\u001b[0m\n\u001b[0;32m----> 1\u001b[0;31m \u001b[0mnp\u001b[0m\u001b[0;34m.\u001b[0m\u001b[0misnan\u001b[0m\u001b[0;34m(\u001b[0m\u001b[0mnp\u001b[0m\u001b[0;34m.\u001b[0m\u001b[0masarray\u001b[0m\u001b[0;34m(\u001b[0m\u001b[0mlat\u001b[0m\u001b[0;34m)\u001b[0m\u001b[0;34m)\u001b[0m\u001b[0;34m\u001b[0m\u001b[0m\n\u001b[0m",
      "\u001b[0;31mTypeError\u001b[0m: ufunc 'isnan' not supported for the input types, and the inputs could not be safely coerced to any supported types according to the casting rule ''safe''"
     ]
    }
   ],
   "source": [
    "np.isnan(np.asarray(lat))"
   ]
  },
  {
   "cell_type": "code",
   "execution_count": 53,
   "metadata": {},
   "outputs": [
    {
     "data": {
      "text/plain": [
       "[array([False, False, False, False, False, False, False, False, False,\n",
       "        False, False, False, False, False, False, False, False, False,\n",
       "        False, False, False, False, False, False, False, False,  True,\n",
       "         True,  True,  True,  True, False, False, False, False,  True,\n",
       "         True,  True,  True, False, False, False, False,  True, False,\n",
       "        False,  True,  True, False, False, False, False,  True, False,\n",
       "         True,  True, False, False, False,  True,  True, False, False,\n",
       "        False, False, False, False, False])]"
      ]
     },
     "execution_count": 53,
     "metadata": {},
     "output_type": "execute_result"
    }
   ],
   "source": [
    "np.asarray(lat)=='nan'"
   ]
  },
  {
   "cell_type": "code",
   "execution_count": 54,
   "metadata": {},
   "outputs": [],
   "source": [
    "lat=np.asarray(lat)\n"
   ]
  },
  {
   "cell_type": "code",
   "execution_count": 55,
   "metadata": {},
   "outputs": [],
   "source": [
    "lat[lat=='nan']=0"
   ]
  },
  {
   "cell_type": "code",
   "execution_count": 76,
   "metadata": {},
   "outputs": [
    {
     "data": {
      "text/plain": [
       "8"
      ]
     },
     "execution_count": 76,
     "metadata": {},
     "output_type": "execute_result"
    }
   ],
   "source": [
    "len(data['rise'].unique())"
   ]
  },
  {
   "cell_type": "code",
   "execution_count": 82,
   "metadata": {},
   "outputs": [
    {
     "data": {
      "text/plain": [
       "35"
      ]
     },
     "execution_count": 82,
     "metadata": {},
     "output_type": "execute_result"
    }
   ],
   "source": [
    "len(data['risenums'][data['risenums']==0])"
   ]
  },
  {
   "cell_type": "code",
   "execution_count": 134,
   "metadata": {},
   "outputs": [
    {
     "data": {
      "text/plain": [
       "0    -1\n",
       "3    -3\n",
       "2    -3\n",
       "1    -3\n",
       "21    0\n",
       "52    6\n",
       "5     1\n",
       "7     1\n",
       "26    2\n",
       "18    2\n",
       "30    3\n",
       "29    3\n",
       "44    5\n",
       "41    5\n",
       "36    5\n",
       "35    5\n",
       "10   -3\n",
       "22   -3\n",
       "17    0\n",
       "38   -1\n",
       "65   -2\n",
       "24   -1\n",
       "25   -1\n",
       "59   -2\n",
       "43   -1\n",
       "49    6\n",
       "66   -1\n",
       "4    -3\n",
       "6     2\n",
       "27    3\n",
       "     ..\n",
       "45    1\n",
       "63    7\n",
       "53   -2\n",
       "67   -3\n",
       "14   -3\n",
       "9    -3\n",
       "20    1\n",
       "58   -2\n",
       "16    0\n",
       "12   -3\n",
       "13    0\n",
       "15    0\n",
       "48    1\n",
       "57   -2\n",
       "19    4\n",
       "28    3\n",
       "55   -2\n",
       "23    1\n",
       "32    1\n",
       "56   -2\n",
       "54   -2\n",
       "31    3\n",
       "47   -1\n",
       "61   -2\n",
       "33    5\n",
       "64   -2\n",
       "37    5\n",
       "40   -1\n",
       "46   -1\n",
       "60    1\n",
       "Name: risenums, Length: 68, dtype: int64"
      ]
     },
     "execution_count": 134,
     "metadata": {},
     "output_type": "execute_result"
    }
   ],
   "source": [
    "data.risenums"
   ]
  },
  {
   "cell_type": "code",
   "execution_count": 128,
   "metadata": {},
   "outputs": [
    {
     "data": {
      "text/plain": [
       "-1"
      ]
     },
     "execution_count": 128,
     "metadata": {},
     "output_type": "execute_result"
    }
   ],
   "source": [
    "min(data.risenums)"
   ]
  },
  {
   "cell_type": "code",
   "execution_count": null,
   "metadata": {},
   "outputs": [],
   "source": []
  }
 ],
 "metadata": {
  "anaconda-cloud": {},
  "kernelspec": {
   "display_name": "Python [default]",
   "language": "python",
   "name": "python3"
  },
  "language_info": {
   "codemirror_mode": {
    "name": "ipython",
    "version": 3
   },
   "file_extension": ".py",
   "mimetype": "text/x-python",
   "name": "python",
   "nbconvert_exporter": "python",
   "pygments_lexer": "ipython3",
   "version": "3.5.2"
  }
 },
 "nbformat": 4,
 "nbformat_minor": 2
}
