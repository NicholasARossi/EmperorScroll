{
 "cells": [
  {
   "cell_type": "code",
   "execution_count": 60,
   "metadata": {},
   "outputs": [],
   "source": [
    "import pandas as pd\n",
    "import numpy as np"
   ]
  },
  {
   "cell_type": "code",
   "execution_count": 61,
   "metadata": {},
   "outputs": [],
   "source": [
    "data=pd.read_csv('emperors.csv')"
   ]
  },
  {
   "cell_type": "code",
   "execution_count": 62,
   "metadata": {},
   "outputs": [],
   "source": [
    "CityDict ={\n",
    "  \"Rome\": (41.9028, 12.4964),\n",
    "  \"Antitum\": (41.4496, 12.6197),\n",
    "  \"Lugdunum\": (45.7640, 4.8357),\n",
    "    \"Terracina\":(41.2964, 13.2333),\n",
    "   \"Terentinum\": (40.4644, 17.2470),\n",
    "    \"Falacrine\": (42.4211, 13.0805),\n",
    "    \"Narni\": (42.5176, 12.5156),\n",
    "    \"Italica\": (42.5176, 12.5156),\n",
    "    \"Lanuvium\": (41.6754, 12.6980),\n",
    "    \"Alba\":(44.7009, 8.0357),\n",
    "    \"Milan\":(44.7009, 8.0357),\n",
    "    \"Leptis Magna\": (32.6343, 14.2948),\n",
    "    \"Iol Caesarea\": (36.5675, 2.2040),\n",
    "    \"Emesa\":(34.7324, 36.7137),\n",
    "    \"Arca Caesarea\": (34.5305, 36.0382),\n",
    "    \"Shahba\":(32.8569, 36.6256),\n",
    "    \"Budalia\":(45.0112, 19.4568),\n",
    "    \"Sirmium\":(44.9795, 19.6210),\n",
    "    \"Interamna Nahars\":(42.5636, 12.6427),\n",
    "    \"Narbo\":(43.1843, 3.0031),\n",
    "    \"Salona\":(43.5423, 16.4920),\n",
    "    \"Dardania\":(40.1467, 26.4086),\n",
    "    \"Romuliana\":(43.9095, 22.1753),\n",
    "    \"Naissus\":(43.3209, 21.8958),\n",
    "    \"Felix Romuliana\":(43.9095, 22.1753),\n",
    "    \"Arelate\":(43.6766, 4.6278),\n",
    "    \"Constantinople\":(41.0082, 28.9784),\n",
    "    \"Singidunum\":(44.7866, 20.4489),\n",
    "    \"Cibalae\":(45.2879, 18.8057),\n",
    "    \"Cauca\":(41.2158, -4.5221),\n",
    "    \"NaN\":(0,0)\n",
    "}"
   ]
  },
  {
   "cell_type": "code",
   "execution_count": 63,
   "metadata": {},
   "outputs": [],
   "source": [
    "lat=[]\n",
    "long=[]\n",
    "years=[]\n",
    "for x in range(len(data)):\n",
    "    if type(data['birth.cty'].iloc[x])==str:\n",
    "        la,lo=CityDict[data['birth.cty'].iloc[x]]\n",
    "    else:\n",
    "        la,lo=(\"nan\",\"nan\")\n",
    "    lat.append(la)\n",
    "    long.append(lo)\n",
    "    if x==0:\n",
    "        years=[40]\n",
    "    else:\n",
    "        years.append(int(data['reignend'].iloc[x].split('-')[0])-int(data['reignstart'].iloc[x].split('-')[0]))\n",
    "lat=np.asarray(lat)\n",
    "lat[lat=='nan']=0\n",
    "long=np.asarray(long)\n",
    "long[long=='nan']=0\n",
    "\n",
    "data['latitude']=lat\n",
    "data['logitude']=long\n",
    "data['legacy']=years\n",
    "data['causenums']=pd.factorize(data.cause)[0] + 1\n",
    "data=data.sort_values(by='causenums')\n",
    "data.to_csv('munged_data.csv')"
   ]
  },
  {
   "cell_type": "code",
   "execution_count": 8,
   "metadata": {},
   "outputs": [],
   "source": [
    "data['causenums']=pd.factorize(data.cause)[0] + 1"
   ]
  },
  {
   "cell_type": "code",
   "execution_count": 45,
   "metadata": {},
   "outputs": [
    {
     "ename": "TypeError",
     "evalue": "ufunc 'isnan' not supported for the input types, and the inputs could not be safely coerced to any supported types according to the casting rule ''safe''",
     "output_type": "error",
     "traceback": [
      "\u001b[0;31m---------------------------------------------------------------------------\u001b[0m",
      "\u001b[0;31mTypeError\u001b[0m                                 Traceback (most recent call last)",
      "\u001b[0;32m<ipython-input-45-4d787a421e86>\u001b[0m in \u001b[0;36m<module>\u001b[0;34m()\u001b[0m\n\u001b[0;32m----> 1\u001b[0;31m \u001b[0mnp\u001b[0m\u001b[0;34m.\u001b[0m\u001b[0misnan\u001b[0m\u001b[0;34m(\u001b[0m\u001b[0mnp\u001b[0m\u001b[0;34m.\u001b[0m\u001b[0masarray\u001b[0m\u001b[0;34m(\u001b[0m\u001b[0mlat\u001b[0m\u001b[0;34m)\u001b[0m\u001b[0;34m)\u001b[0m\u001b[0;34m\u001b[0m\u001b[0m\n\u001b[0m",
      "\u001b[0;31mTypeError\u001b[0m: ufunc 'isnan' not supported for the input types, and the inputs could not be safely coerced to any supported types according to the casting rule ''safe''"
     ]
    }
   ],
   "source": [
    "np.isnan(np.asarray(lat))"
   ]
  },
  {
   "cell_type": "code",
   "execution_count": 53,
   "metadata": {},
   "outputs": [
    {
     "data": {
      "text/plain": [
       "[array([False, False, False, False, False, False, False, False, False,\n",
       "        False, False, False, False, False, False, False, False, False,\n",
       "        False, False, False, False, False, False, False, False,  True,\n",
       "         True,  True,  True,  True, False, False, False, False,  True,\n",
       "         True,  True,  True, False, False, False, False,  True, False,\n",
       "        False,  True,  True, False, False, False, False,  True, False,\n",
       "         True,  True, False, False, False,  True,  True, False, False,\n",
       "        False, False, False, False, False])]"
      ]
     },
     "execution_count": 53,
     "metadata": {},
     "output_type": "execute_result"
    }
   ],
   "source": [
    "np.asarray(lat)=='nan'"
   ]
  },
  {
   "cell_type": "code",
   "execution_count": 54,
   "metadata": {},
   "outputs": [],
   "source": [
    "lat=np.asarray(lat)\n"
   ]
  },
  {
   "cell_type": "code",
   "execution_count": 55,
   "metadata": {},
   "outputs": [],
   "source": [
    "lat[lat=='nan']=0"
   ]
  },
  {
   "cell_type": "code",
   "execution_count": 56,
   "metadata": {},
   "outputs": [
    {
     "data": {
      "text/plain": [
       "array(['41.9028', '41.9028', '41.4496', '45.764', '41.4496', '41.2964',\n",
       "       '40.4644', '41.9028', '42.4211', '41.9028', '41.9028', '42.5176',\n",
       "       '42.5176', '42.5176', '41.6754', '41.9028', '41.9028', '41.6754',\n",
       "       '44.7009', '44.7009', '32.6343', '45.764', '41.9028', '36.5675',\n",
       "       '34.7324', '34.5305', '0', '0', '0', '0', '0', '41.9028',\n",
       "       '32.8569', '45.0112', '44.9795', '0', '0', '0', '0', '44.9795',\n",
       "       '44.9795', '44.9795', '42.5636', '0', '44.9795', '43.1843', '0',\n",
       "       '0', '41.0842', '44.9795', '40.1467', '43.9095', '0', '43.3209',\n",
       "       '0', '0', '43.9095', '43.6766', '44.9795', '0', '0', '41.0082',\n",
       "       '44.7866', '45.2879', '45.2879', '44.9795', '44.7009', '41.2158'],\n",
       "      dtype='<U32')"
      ]
     },
     "execution_count": 56,
     "metadata": {},
     "output_type": "execute_result"
    }
   ],
   "source": [
    "lat"
   ]
  },
  {
   "cell_type": "code",
   "execution_count": null,
   "metadata": {},
   "outputs": [],
   "source": []
  }
 ],
 "metadata": {
  "anaconda-cloud": {},
  "kernelspec": {
   "display_name": "Python [default]",
   "language": "python",
   "name": "python3"
  },
  "language_info": {
   "codemirror_mode": {
    "name": "ipython",
    "version": 3
   },
   "file_extension": ".py",
   "mimetype": "text/x-python",
   "name": "python",
   "nbconvert_exporter": "python",
   "pygments_lexer": "ipython3",
   "version": "3.5.2"
  }
 },
 "nbformat": 4,
 "nbformat_minor": 2
}
